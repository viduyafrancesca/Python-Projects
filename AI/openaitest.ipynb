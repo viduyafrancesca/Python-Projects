{
 "cells": [
  {
   "cell_type": "code",
   "execution_count": 1,
   "metadata": {},
   "outputs": [
    {
     "name": "stdout",
     "output_type": "stream",
     "text": [
      "\n",
      "\u001b[1m[\u001b[0m\u001b[34;49mnotice\u001b[0m\u001b[1;39;49m]\u001b[0m\u001b[39;49m A new release of pip is available: \u001b[0m\u001b[31;49m24.0\u001b[0m\u001b[39;49m -> \u001b[0m\u001b[32;49m24.2\u001b[0m\n",
      "\u001b[1m[\u001b[0m\u001b[34;49mnotice\u001b[0m\u001b[1;39;49m]\u001b[0m\u001b[39;49m To update, run: \u001b[0m\u001b[32;49m/Applications/Xcode.app/Contents/Developer/usr/bin/python3 -m pip install --upgrade pip\u001b[0m\n"
     ]
    }
   ],
   "source": [
    "!pip3 install -q openai"
   ]
  },
  {
   "cell_type": "code",
   "execution_count": 13,
   "metadata": {},
   "outputs": [],
   "source": [
    "import openai"
   ]
  },
  {
   "cell_type": "code",
   "execution_count": 14,
   "metadata": {},
   "outputs": [],
   "source": [
    "openai.api_key = 'sk-'"
   ]
  },
  {
   "cell_type": "code",
   "execution_count": 15,
   "metadata": {},
   "outputs": [],
   "source": [
    "messages = [\n",
    "    {\n",
    "        \"role\": \"system\",\n",
    "        \"content\": \"You are a kind assistant\",\n",
    "    }\n",
    "]"
   ]
  },
  {
   "cell_type": "code",
   "execution_count": 16,
   "metadata": {},
   "outputs": [
    {
     "name": "stdout",
     "output_type": "stream",
     "text": [
      "ChatGPT: As of my last knowledge update in October 2023, Magnus Carlsen is widely considered the best chess player in the world. He has been the reigning World Chess Champion since 2013 and has consistently held the highest Elo rating in the world. However, chess rankings can change, and new talents may emerge, so it’s always a good idea to check the latest rankings from official sources like FIDE for the most current information.\n",
      "ChatGPT: As of my last knowledge update in October 2023, Magnus Carlsen is widely considered the best chess player in the world. He has been the reigning World Chess Champion since 2013 and has consistently held the highest Elo rating in the world. However, chess rankings can change, and new talents may emerge, so it’s always a good idea to check the latest rankings from official sources like FIDE for the most current information.\n",
      "ChatGPT: As of my last knowledge update in October 2023, Magnus Carlsen is widely considered the best chess player in the world. He has been the reigning World Chess Champion since 2013 and has consistently held the highest Elo rating in the world. However, chess rankings can change, and new talents may emerge, so it’s always a good idea to check the latest rankings from official sources like FIDE for the most current information.\n",
      "ChatGPT: As of my last knowledge update in October 2023, Magnus Carlsen is widely considered the best chess player in the world. He has been the reigning World Chess Champion since 2013 and has consistently held the highest Elo rating in the world. However, chess rankings can change, and new talents may emerge, so it’s always a good idea to check the latest rankings from official sources like FIDE for the most current information.\n"
     ]
    }
   ],
   "source": [
    "while True:\n",
    "    message = input(\"User: \")\n",
    "    if message:\n",
    "        messages.append(\n",
    "            {\"role\": \"user\", \"content\": message },\n",
    "        )\n",
    "        chat = openai.chat.completions.create(\n",
    "            model=\"gpt-4o-mini\", messages=messages\n",
    "        )\n",
    "    reply = chat.choices[0].message.content\n",
    "    print(f\"ChatGPT: {reply}\")\n",
    "    messages.append({\"role\": \"assistant\", \"content\": reply})"
   ]
  },
  {
   "cell_type": "code",
   "execution_count": null,
   "metadata": {},
   "outputs": [],
   "source": []
  }
 ],
 "metadata": {
  "kernelspec": {
   "display_name": "Python 3",
   "language": "python",
   "name": "python3"
  },
  "language_info": {
   "codemirror_mode": {
    "name": "ipython",
    "version": 3
   },
   "file_extension": ".py",
   "mimetype": "text/x-python",
   "name": "python",
   "nbconvert_exporter": "python",
   "pygments_lexer": "ipython3",
   "version": "3.9.6"
  }
 },
 "nbformat": 4,
 "nbformat_minor": 2
}
